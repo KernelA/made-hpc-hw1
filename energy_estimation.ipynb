{
 "cells": [
  {
   "cell_type": "markdown",
   "source": [
    "# Оценка потребляемой мощности для Top 500 суперкомпьютеров в мире на 2021 год"
   ],
   "metadata": {}
  },
  {
   "cell_type": "code",
   "execution_count": 47,
   "source": [
    "import pathlib\r\n",
    "import warnings\r\n",
    "\r\n",
    "import pandas as pd\r\n",
    "import matplotlib as mpl\r\n",
    "from matplotlib import pyplot as plt\r\n",
    "import numpy as np\r\n",
    "from supervised.automl import AutoML\r\n",
    "from sklearn.preprocessing import FunctionTransformer\r\n",
    "\r\n",
    "%matplotlib inline\r\n",
    "\r\n",
    "mpl.rcParams[\"figure.figsize\"] = (8, 8)\r\n",
    "mpl.rcParams[\"figure.dpi\"] = 100\r\n",
    "plt.style.use('seaborn')"
   ],
   "outputs": [],
   "metadata": {}
  },
  {
   "cell_type": "code",
   "execution_count": 48,
   "source": [
    "%load_ext autoreload\r\n",
    "%autoreload 2\r\n",
    "\r\n",
    "from notebook_utils import comma_number2str, twatt2kwatt"
   ],
   "outputs": [
    {
     "output_type": "stream",
     "name": "stdout",
     "text": [
      "The autoreload extension is already loaded. To reload it, use:\n",
      "  %reload_ext autoreload\n"
     ]
    }
   ],
   "metadata": {}
  },
  {
   "cell_type": "code",
   "execution_count": 49,
   "source": [
    "data_path = pathlib.Path(\"data\", \"raw\")"
   ],
   "outputs": [],
   "metadata": {}
  },
  {
   "cell_type": "markdown",
   "source": [
    "Для оценки мощности нужна знать эти значения для всех суперкомпьютеров. К сожалению, нужная информация доступна лишь только для части суперкомпьютеров. Для остальных она недоступна. Чтобы как-то оценить общую суммарную потребляемую мощность необходимо заполнить пропущенные значения. Попробуем построить ML модель, которая предскажет пропущенные значения на основе уже известных данных по потребляемой мощности.\r\n",
    "\r\n",
    "Для этого возьмём [данные за 2020-2021 год](https://www.top500.org/lists/top500/), чтобы расширить набор данных для обучения. \r\n",
    "\r\n",
    "На основе EDA этого были выбраны столбцы, которые имеет смысл анализировать и несут полезную информацию для предсказаний."
   ],
   "metadata": {}
  },
  {
   "cell_type": "code",
   "execution_count": 50,
   "source": [
    "ALL_COLUMNS = frozenset((\"Rank\", \"Previous Rank\", \"First Appearance\", \"First Rank\", \"Name\", \"Computer\", \"Site\", \"Manufacturer\",\r\n",
    "                         \"Country\", \"Year\", \"Segment\", \"Total Cores\", \"Accelerator/Co-Processor Cores\", \"Rmax [TFlop/s]\", \"Rpeak [TFlop/s]\", \"Nmax\",\r\n",
    "                         \"Nhalf\", \"HPCG [TFlop/s]\", \"Power (kW)\", \"Power Source\", \"Power Efficiency [GFlops/Watts]\", \"Memory\", \"Architecture\",\r\n",
    "                         \"Processor\", \"Processor Technology\", \"Processor Speed (MHz)\", \"Operating System\", \"OS Family\", \"Accelerator/Co-Processor\",\r\n",
    "                         \"Cores per Socket\", \"Processor Generation\", \"System Model\", \"System Family\", \"Interconnect Family\", \"Interconnect\",\r\n",
    "                         \"Continent\", \"Site ID\", \"System ID\"))\r\n"
   ],
   "outputs": [],
   "metadata": {}
  },
  {
   "cell_type": "code",
   "execution_count": 51,
   "source": [
    "DROP_COLUMNS = frozenset((\r\n",
    "    \"Previous Rank\", \"First Rank\", \"First Appearance\", \"Power Source\", \"Memory\", \"OS Family\", \"Name\", \"Computer\", \"Site\",\r\n",
    "    \"HPCG [TFlop/s]\", \"System Model\", \"Site ID\", \"System ID\", \"Accelerator/Co-Processor Cores\", \"Nhalf\", \"Power Efficiency [GFlops/Watts]\"\r\n",
    "))\r\n"
   ],
   "outputs": [],
   "metadata": {}
  },
  {
   "cell_type": "code",
   "execution_count": 52,
   "source": [
    "SELECTED_COLUMNS = ALL_COLUMNS.difference(DROP_COLUMNS)"
   ],
   "outputs": [],
   "metadata": {}
  },
  {
   "cell_type": "code",
   "execution_count": 53,
   "source": [
    "TARGET_COLUMN_NAME = \"Power (kW)\"\r\n"
   ],
   "outputs": [],
   "metadata": {}
  },
  {
   "cell_type": "code",
   "execution_count": 54,
   "source": [
    "NUMERIC_COLUMNS = (\"Total Cores\", \"Accelerator/Co-Processor Cores\", \"Rmax [TFlop/s]\",\r\n",
    "                   \"Rpeak [TFlop/s]\", \"Nmax\", \"Total Cores\", \"Processor Speed (MHz)\", \"Power (kW)\")\r\n",
    "CATEGORY_COLUMNS = (\"Manufacturer\", \"Country\", \"Segment\", \"Architecture\", \"Processor\", \"Processor Technology\",\r\n",
    "                    \"Operating System\", \"Accelerator/Co-Processor\", \"Processor Generation\", \"System Family\", \"Interconnect Family\", \"Interconnect\", \"Continent\")\r\n",
    "FILEINDEX_COL = \"file_index_year\""
   ],
   "outputs": [],
   "metadata": {}
  },
  {
   "cell_type": "code",
   "execution_count": 55,
   "source": [
    "assert FILEINDEX_COL not in SELECTED_COLUMNS"
   ],
   "outputs": [],
   "metadata": {}
  },
  {
   "cell_type": "code",
   "execution_count": 56,
   "source": [
    "all_data = pd.DataFrame()\r\n",
    "\r\n",
    "for path in data_path.glob(\"TOP500_*.csv\"):\r\n",
    "    file_index = path.stem.split(\"_\")[1]\r\n",
    "    data = pd.read_csv(path, engine=\"c\", usecols=SELECTED_COLUMNS,\r\n",
    "                       converters={col_name: comma_number2str for col_name in NUMERIC_COLUMNS},\r\n",
    "                       encoding=\"utf-8\",\r\n",
    "                       dtype={col_name: \"category\" for col_name in CATEGORY_COLUMNS})\r\n",
    "    data[FILEINDEX_COL] = file_index\r\n",
    "    all_data = all_data.append(data, ignore_index=True)\r\n",
    "\r\n",
    "del data\r\n"
   ],
   "outputs": [],
   "metadata": {}
  },
  {
   "cell_type": "code",
   "execution_count": 57,
   "source": [
    "all_data.info()"
   ],
   "outputs": [
    {
     "output_type": "stream",
     "name": "stdout",
     "text": [
      "<class 'pandas.core.frame.DataFrame'>\n",
      "RangeIndex: 1500 entries, 0 to 1499\n",
      "Data columns (total 23 columns):\n",
      " #   Column                    Non-Null Count  Dtype   \n",
      "---  ------                    --------------  -----   \n",
      " 0   Rank                      1500 non-null   int64   \n",
      " 1   Manufacturer              1500 non-null   object  \n",
      " 2   Country                   1500 non-null   object  \n",
      " 3   Year                      1500 non-null   int64   \n",
      " 4   Segment                   1500 non-null   category\n",
      " 5   Total Cores               1500 non-null   int64   \n",
      " 6   Rmax [TFlop/s]            1500 non-null   float64 \n",
      " 7   Rpeak [TFlop/s]           1500 non-null   float64 \n",
      " 8   Nmax                      1482 non-null   float64 \n",
      " 9   Power (kW)                576 non-null    float64 \n",
      " 10  Architecture              1500 non-null   category\n",
      " 11  Processor                 1500 non-null   object  \n",
      " 12  Processor Technology      1500 non-null   object  \n",
      " 13  Processor Speed (MHz)     1500 non-null   int64   \n",
      " 14  Operating System          1500 non-null   object  \n",
      " 15  Accelerator/Co-Processor  1500 non-null   object  \n",
      " 16  Cores per Socket          1500 non-null   int64   \n",
      " 17  Processor Generation      1500 non-null   object  \n",
      " 18  System Family             1500 non-null   object  \n",
      " 19  Interconnect Family       1500 non-null   object  \n",
      " 20  Interconnect              1500 non-null   object  \n",
      " 21  Continent                 1500 non-null   object  \n",
      " 22  file_index_year           1500 non-null   object  \n",
      "dtypes: category(2), float64(4), int64(5), object(12)\n",
      "memory usage: 249.5+ KB\n"
     ]
    }
   ],
   "metadata": {}
  },
  {
   "cell_type": "code",
   "execution_count": 58,
   "source": [
    "all_data.describe()"
   ],
   "outputs": [
    {
     "output_type": "execute_result",
     "data": {
      "text/html": [
       "<div>\n",
       "<style scoped>\n",
       "    .dataframe tbody tr th:only-of-type {\n",
       "        vertical-align: middle;\n",
       "    }\n",
       "\n",
       "    .dataframe tbody tr th {\n",
       "        vertical-align: top;\n",
       "    }\n",
       "\n",
       "    .dataframe thead th {\n",
       "        text-align: right;\n",
       "    }\n",
       "</style>\n",
       "<table border=\"1\" class=\"dataframe\">\n",
       "  <thead>\n",
       "    <tr style=\"text-align: right;\">\n",
       "      <th></th>\n",
       "      <th>Rank</th>\n",
       "      <th>Year</th>\n",
       "      <th>Total Cores</th>\n",
       "      <th>Rmax [TFlop/s]</th>\n",
       "      <th>Rpeak [TFlop/s]</th>\n",
       "      <th>Nmax</th>\n",
       "      <th>Power (kW)</th>\n",
       "      <th>Processor Speed (MHz)</th>\n",
       "      <th>Cores per Socket</th>\n",
       "    </tr>\n",
       "  </thead>\n",
       "  <tbody>\n",
       "    <tr>\n",
       "      <th>count</th>\n",
       "      <td>1500.000000</td>\n",
       "      <td>1500.000000</td>\n",
       "      <td>1.500000e+03</td>\n",
       "      <td>1500.000000</td>\n",
       "      <td>1500.000000</td>\n",
       "      <td>1.482000e+03</td>\n",
       "      <td>576.000000</td>\n",
       "      <td>1500.000000</td>\n",
       "      <td>1500.000000</td>\n",
       "    </tr>\n",
       "    <tr>\n",
       "      <th>mean</th>\n",
       "      <td>250.500000</td>\n",
       "      <td>2018.270667</td>\n",
       "      <td>1.470297e+05</td>\n",
       "      <td>4947.303367</td>\n",
       "      <td>7819.322433</td>\n",
       "      <td>5.016004e+06</td>\n",
       "      <td>1762.531719</td>\n",
       "      <td>2386.858667</td>\n",
       "      <td>22.086667</td>\n",
       "    </tr>\n",
       "    <tr>\n",
       "      <th>std</th>\n",
       "      <td>144.385415</td>\n",
       "      <td>1.629471</td>\n",
       "      <td>6.438063e+05</td>\n",
       "      <td>21731.160694</td>\n",
       "      <td>27670.142820</td>\n",
       "      <td>2.804851e+06</td>\n",
       "      <td>3253.643223</td>\n",
       "      <td>316.451595</td>\n",
       "      <td>16.209122</td>\n",
       "    </tr>\n",
       "    <tr>\n",
       "      <th>min</th>\n",
       "      <td>1.000000</td>\n",
       "      <td>2010.000000</td>\n",
       "      <td>1.664000e+03</td>\n",
       "      <td>1228.000000</td>\n",
       "      <td>181.300000</td>\n",
       "      <td>4.870000e+05</td>\n",
       "      <td>61.360000</td>\n",
       "      <td>1300.000000</td>\n",
       "      <td>4.000000</td>\n",
       "    </tr>\n",
       "    <tr>\n",
       "      <th>25%</th>\n",
       "      <td>125.750000</td>\n",
       "      <td>2018.000000</td>\n",
       "      <td>4.732000e+04</td>\n",
       "      <td>1649.110000</td>\n",
       "      <td>2465.525000</td>\n",
       "      <td>2.741752e+06</td>\n",
       "      <td>555.595000</td>\n",
       "      <td>2250.000000</td>\n",
       "      <td>16.000000</td>\n",
       "    </tr>\n",
       "    <tr>\n",
       "      <th>50%</th>\n",
       "      <td>250.500000</td>\n",
       "      <td>2018.000000</td>\n",
       "      <td>5.760000e+04</td>\n",
       "      <td>1976.000000</td>\n",
       "      <td>3744.000000</td>\n",
       "      <td>4.800000e+06</td>\n",
       "      <td>887.000000</td>\n",
       "      <td>2300.000000</td>\n",
       "      <td>20.000000</td>\n",
       "    </tr>\n",
       "    <tr>\n",
       "      <th>75%</th>\n",
       "      <td>375.250000</td>\n",
       "      <td>2019.000000</td>\n",
       "      <td>8.720000e+04</td>\n",
       "      <td>2779.840000</td>\n",
       "      <td>5184.000000</td>\n",
       "      <td>7.171008e+06</td>\n",
       "      <td>1468.500000</td>\n",
       "      <td>2500.000000</td>\n",
       "      <td>20.000000</td>\n",
       "    </tr>\n",
       "    <tr>\n",
       "      <th>max</th>\n",
       "      <td>500.000000</td>\n",
       "      <td>2021.000000</td>\n",
       "      <td>1.064960e+07</td>\n",
       "      <td>442010.000000</td>\n",
       "      <td>537212.000000</td>\n",
       "      <td>2.128896e+07</td>\n",
       "      <td>29899.230000</td>\n",
       "      <td>3836.000000</td>\n",
       "      <td>260.000000</td>\n",
       "    </tr>\n",
       "  </tbody>\n",
       "</table>\n",
       "</div>"
      ],
      "text/plain": [
       "              Rank         Year   Total Cores  Rmax [TFlop/s]  \\\n",
       "count  1500.000000  1500.000000  1.500000e+03     1500.000000   \n",
       "mean    250.500000  2018.270667  1.470297e+05     4947.303367   \n",
       "std     144.385415     1.629471  6.438063e+05    21731.160694   \n",
       "min       1.000000  2010.000000  1.664000e+03     1228.000000   \n",
       "25%     125.750000  2018.000000  4.732000e+04     1649.110000   \n",
       "50%     250.500000  2018.000000  5.760000e+04     1976.000000   \n",
       "75%     375.250000  2019.000000  8.720000e+04     2779.840000   \n",
       "max     500.000000  2021.000000  1.064960e+07   442010.000000   \n",
       "\n",
       "       Rpeak [TFlop/s]          Nmax    Power (kW)  Processor Speed (MHz)  \\\n",
       "count      1500.000000  1.482000e+03    576.000000            1500.000000   \n",
       "mean       7819.322433  5.016004e+06   1762.531719            2386.858667   \n",
       "std       27670.142820  2.804851e+06   3253.643223             316.451595   \n",
       "min         181.300000  4.870000e+05     61.360000            1300.000000   \n",
       "25%        2465.525000  2.741752e+06    555.595000            2250.000000   \n",
       "50%        3744.000000  4.800000e+06    887.000000            2300.000000   \n",
       "75%        5184.000000  7.171008e+06   1468.500000            2500.000000   \n",
       "max      537212.000000  2.128896e+07  29899.230000            3836.000000   \n",
       "\n",
       "       Cores per Socket  \n",
       "count       1500.000000  \n",
       "mean          22.086667  \n",
       "std           16.209122  \n",
       "min            4.000000  \n",
       "25%           16.000000  \n",
       "50%           20.000000  \n",
       "75%           20.000000  \n",
       "max          260.000000  "
      ]
     },
     "metadata": {},
     "execution_count": 58
    }
   ],
   "metadata": {}
  },
  {
   "cell_type": "code",
   "execution_count": 59,
   "source": [
    "all_data.head(n=3)"
   ],
   "outputs": [
    {
     "output_type": "execute_result",
     "data": {
      "text/html": [
       "<div>\n",
       "<style scoped>\n",
       "    .dataframe tbody tr th:only-of-type {\n",
       "        vertical-align: middle;\n",
       "    }\n",
       "\n",
       "    .dataframe tbody tr th {\n",
       "        vertical-align: top;\n",
       "    }\n",
       "\n",
       "    .dataframe thead th {\n",
       "        text-align: right;\n",
       "    }\n",
       "</style>\n",
       "<table border=\"1\" class=\"dataframe\">\n",
       "  <thead>\n",
       "    <tr style=\"text-align: right;\">\n",
       "      <th></th>\n",
       "      <th>Rank</th>\n",
       "      <th>Manufacturer</th>\n",
       "      <th>Country</th>\n",
       "      <th>Year</th>\n",
       "      <th>Segment</th>\n",
       "      <th>Total Cores</th>\n",
       "      <th>Rmax [TFlop/s]</th>\n",
       "      <th>Rpeak [TFlop/s]</th>\n",
       "      <th>Nmax</th>\n",
       "      <th>Power (kW)</th>\n",
       "      <th>...</th>\n",
       "      <th>Processor Speed (MHz)</th>\n",
       "      <th>Operating System</th>\n",
       "      <th>Accelerator/Co-Processor</th>\n",
       "      <th>Cores per Socket</th>\n",
       "      <th>Processor Generation</th>\n",
       "      <th>System Family</th>\n",
       "      <th>Interconnect Family</th>\n",
       "      <th>Interconnect</th>\n",
       "      <th>Continent</th>\n",
       "      <th>file_index_year</th>\n",
       "    </tr>\n",
       "  </thead>\n",
       "  <tbody>\n",
       "    <tr>\n",
       "      <th>0</th>\n",
       "      <td>1</td>\n",
       "      <td>Fujitsu</td>\n",
       "      <td>Japan</td>\n",
       "      <td>2020</td>\n",
       "      <td>Research</td>\n",
       "      <td>7299072</td>\n",
       "      <td>415530.0</td>\n",
       "      <td>513854.67</td>\n",
       "      <td>20459520.0</td>\n",
       "      <td>28334.50</td>\n",
       "      <td>...</td>\n",
       "      <td>2200</td>\n",
       "      <td>Red Hat Enterprise Linux</td>\n",
       "      <td>None</td>\n",
       "      <td>48</td>\n",
       "      <td>Fujitsu A64FX</td>\n",
       "      <td>Fujitsu Cluster</td>\n",
       "      <td>Proprietary Network</td>\n",
       "      <td>Tofu interconnect D</td>\n",
       "      <td>Asia</td>\n",
       "      <td>202006</td>\n",
       "    </tr>\n",
       "    <tr>\n",
       "      <th>1</th>\n",
       "      <td>2</td>\n",
       "      <td>IBM</td>\n",
       "      <td>United States</td>\n",
       "      <td>2018</td>\n",
       "      <td>Research</td>\n",
       "      <td>2414592</td>\n",
       "      <td>148600.0</td>\n",
       "      <td>200794.88</td>\n",
       "      <td>16473600.0</td>\n",
       "      <td>10096.00</td>\n",
       "      <td>...</td>\n",
       "      <td>3070</td>\n",
       "      <td>RHEL 7.4</td>\n",
       "      <td>NVIDIA Volta GV100</td>\n",
       "      <td>22</td>\n",
       "      <td>IBM POWER9</td>\n",
       "      <td>IBM Power Systems</td>\n",
       "      <td>Infiniband</td>\n",
       "      <td>Dual-rail Mellanox EDR Infiniband</td>\n",
       "      <td>North America</td>\n",
       "      <td>202006</td>\n",
       "    </tr>\n",
       "    <tr>\n",
       "      <th>2</th>\n",
       "      <td>3</td>\n",
       "      <td>IBM / NVIDIA / Mellanox</td>\n",
       "      <td>United States</td>\n",
       "      <td>2018</td>\n",
       "      <td>Research</td>\n",
       "      <td>1572480</td>\n",
       "      <td>94640.0</td>\n",
       "      <td>125712.00</td>\n",
       "      <td>11902464.0</td>\n",
       "      <td>7438.28</td>\n",
       "      <td>...</td>\n",
       "      <td>3100</td>\n",
       "      <td>Red Hat Enterprise Linux</td>\n",
       "      <td>NVIDIA Volta GV100</td>\n",
       "      <td>22</td>\n",
       "      <td>IBM POWER9</td>\n",
       "      <td>IBM Power Systems</td>\n",
       "      <td>Infiniband</td>\n",
       "      <td>Dual-rail Mellanox EDR Infiniband</td>\n",
       "      <td>North America</td>\n",
       "      <td>202006</td>\n",
       "    </tr>\n",
       "  </tbody>\n",
       "</table>\n",
       "<p>3 rows × 23 columns</p>\n",
       "</div>"
      ],
      "text/plain": [
       "   Rank             Manufacturer        Country  Year   Segment  Total Cores  \\\n",
       "0     1                  Fujitsu          Japan  2020  Research      7299072   \n",
       "1     2                      IBM  United States  2018  Research      2414592   \n",
       "2     3  IBM / NVIDIA / Mellanox  United States  2018  Research      1572480   \n",
       "\n",
       "   Rmax [TFlop/s]  Rpeak [TFlop/s]        Nmax  Power (kW)  ...  \\\n",
       "0        415530.0        513854.67  20459520.0    28334.50  ...   \n",
       "1        148600.0        200794.88  16473600.0    10096.00  ...   \n",
       "2         94640.0        125712.00  11902464.0     7438.28  ...   \n",
       "\n",
       "  Processor Speed (MHz)          Operating System Accelerator/Co-Processor  \\\n",
       "0                  2200  Red Hat Enterprise Linux                     None   \n",
       "1                  3070                  RHEL 7.4       NVIDIA Volta GV100   \n",
       "2                  3100  Red Hat Enterprise Linux       NVIDIA Volta GV100   \n",
       "\n",
       "   Cores per Socket Processor Generation       System Family  \\\n",
       "0                48        Fujitsu A64FX     Fujitsu Cluster   \n",
       "1                22           IBM POWER9   IBM Power Systems   \n",
       "2                22           IBM POWER9   IBM Power Systems   \n",
       "\n",
       "   Interconnect Family                       Interconnect      Continent  \\\n",
       "0  Proprietary Network                Tofu interconnect D           Asia   \n",
       "1           Infiniband  Dual-rail Mellanox EDR Infiniband  North America   \n",
       "2           Infiniband  Dual-rail Mellanox EDR Infiniband  North America   \n",
       "\n",
       "  file_index_year  \n",
       "0          202006  \n",
       "1          202006  \n",
       "2          202006  \n",
       "\n",
       "[3 rows x 23 columns]"
      ]
     },
     "metadata": {},
     "execution_count": 59
    }
   ],
   "metadata": {}
  },
  {
   "cell_type": "markdown",
   "source": [
    "## Предобработка данных"
   ],
   "metadata": {}
  },
  {
   "cell_type": "code",
   "execution_count": 60,
   "source": [
    "features, target = all_data[all_data.columns.drop([TARGET_COLUMN_NAME, \"Rank\", FILEINDEX_COL])], all_data[TARGET_COLUMN_NAME]"
   ],
   "outputs": [],
   "metadata": {}
  },
  {
   "cell_type": "code",
   "execution_count": 61,
   "source": [
    "train_features = features[target.notna()]\r\n",
    "test_features = features[target.isna()]\r\n",
    "train_target = target[target.notna()]"
   ],
   "outputs": [],
   "metadata": {}
  },
  {
   "cell_type": "code",
   "execution_count": 62,
   "source": [
    "train_features = train_features.drop_duplicates()\r\n",
    "train_target = train_target.loc[train_features.index]"
   ],
   "outputs": [],
   "metadata": {}
  },
  {
   "cell_type": "code",
   "execution_count": 63,
   "source": [
    "assert len(train_features) == len(train_target)"
   ],
   "outputs": [],
   "metadata": {}
  },
  {
   "cell_type": "code",
   "execution_count": 64,
   "source": [
    "train_features.head(n=3)"
   ],
   "outputs": [
    {
     "output_type": "execute_result",
     "data": {
      "text/html": [
       "<div>\n",
       "<style scoped>\n",
       "    .dataframe tbody tr th:only-of-type {\n",
       "        vertical-align: middle;\n",
       "    }\n",
       "\n",
       "    .dataframe tbody tr th {\n",
       "        vertical-align: top;\n",
       "    }\n",
       "\n",
       "    .dataframe thead th {\n",
       "        text-align: right;\n",
       "    }\n",
       "</style>\n",
       "<table border=\"1\" class=\"dataframe\">\n",
       "  <thead>\n",
       "    <tr style=\"text-align: right;\">\n",
       "      <th></th>\n",
       "      <th>Manufacturer</th>\n",
       "      <th>Country</th>\n",
       "      <th>Year</th>\n",
       "      <th>Segment</th>\n",
       "      <th>Total Cores</th>\n",
       "      <th>Rmax [TFlop/s]</th>\n",
       "      <th>Rpeak [TFlop/s]</th>\n",
       "      <th>Nmax</th>\n",
       "      <th>Architecture</th>\n",
       "      <th>Processor</th>\n",
       "      <th>Processor Technology</th>\n",
       "      <th>Processor Speed (MHz)</th>\n",
       "      <th>Operating System</th>\n",
       "      <th>Accelerator/Co-Processor</th>\n",
       "      <th>Cores per Socket</th>\n",
       "      <th>Processor Generation</th>\n",
       "      <th>System Family</th>\n",
       "      <th>Interconnect Family</th>\n",
       "      <th>Interconnect</th>\n",
       "      <th>Continent</th>\n",
       "    </tr>\n",
       "  </thead>\n",
       "  <tbody>\n",
       "    <tr>\n",
       "      <th>0</th>\n",
       "      <td>Fujitsu</td>\n",
       "      <td>Japan</td>\n",
       "      <td>2020</td>\n",
       "      <td>Research</td>\n",
       "      <td>7299072</td>\n",
       "      <td>415530.0</td>\n",
       "      <td>513854.67</td>\n",
       "      <td>20459520.0</td>\n",
       "      <td>MPP</td>\n",
       "      <td>A64FX 48C 2.2GHz</td>\n",
       "      <td>Fujitsu ARM</td>\n",
       "      <td>2200</td>\n",
       "      <td>Red Hat Enterprise Linux</td>\n",
       "      <td>None</td>\n",
       "      <td>48</td>\n",
       "      <td>Fujitsu A64FX</td>\n",
       "      <td>Fujitsu Cluster</td>\n",
       "      <td>Proprietary Network</td>\n",
       "      <td>Tofu interconnect D</td>\n",
       "      <td>Asia</td>\n",
       "    </tr>\n",
       "    <tr>\n",
       "      <th>1</th>\n",
       "      <td>IBM</td>\n",
       "      <td>United States</td>\n",
       "      <td>2018</td>\n",
       "      <td>Research</td>\n",
       "      <td>2414592</td>\n",
       "      <td>148600.0</td>\n",
       "      <td>200794.88</td>\n",
       "      <td>16473600.0</td>\n",
       "      <td>Cluster</td>\n",
       "      <td>IBM POWER9 22C 3.07GHz</td>\n",
       "      <td>Power</td>\n",
       "      <td>3070</td>\n",
       "      <td>RHEL 7.4</td>\n",
       "      <td>NVIDIA Volta GV100</td>\n",
       "      <td>22</td>\n",
       "      <td>IBM POWER9</td>\n",
       "      <td>IBM Power Systems</td>\n",
       "      <td>Infiniband</td>\n",
       "      <td>Dual-rail Mellanox EDR Infiniband</td>\n",
       "      <td>North America</td>\n",
       "    </tr>\n",
       "    <tr>\n",
       "      <th>2</th>\n",
       "      <td>IBM / NVIDIA / Mellanox</td>\n",
       "      <td>United States</td>\n",
       "      <td>2018</td>\n",
       "      <td>Research</td>\n",
       "      <td>1572480</td>\n",
       "      <td>94640.0</td>\n",
       "      <td>125712.00</td>\n",
       "      <td>11902464.0</td>\n",
       "      <td>Cluster</td>\n",
       "      <td>IBM POWER9 22C 3.1GHz</td>\n",
       "      <td>Power</td>\n",
       "      <td>3100</td>\n",
       "      <td>Red Hat Enterprise Linux</td>\n",
       "      <td>NVIDIA Volta GV100</td>\n",
       "      <td>22</td>\n",
       "      <td>IBM POWER9</td>\n",
       "      <td>IBM Power Systems</td>\n",
       "      <td>Infiniband</td>\n",
       "      <td>Dual-rail Mellanox EDR Infiniband</td>\n",
       "      <td>North America</td>\n",
       "    </tr>\n",
       "  </tbody>\n",
       "</table>\n",
       "</div>"
      ],
      "text/plain": [
       "              Manufacturer        Country  Year   Segment  Total Cores  \\\n",
       "0                  Fujitsu          Japan  2020  Research      7299072   \n",
       "1                      IBM  United States  2018  Research      2414592   \n",
       "2  IBM / NVIDIA / Mellanox  United States  2018  Research      1572480   \n",
       "\n",
       "   Rmax [TFlop/s]  Rpeak [TFlop/s]        Nmax Architecture  \\\n",
       "0        415530.0        513854.67  20459520.0          MPP   \n",
       "1        148600.0        200794.88  16473600.0      Cluster   \n",
       "2         94640.0        125712.00  11902464.0      Cluster   \n",
       "\n",
       "                Processor Processor Technology  Processor Speed (MHz)  \\\n",
       "0        A64FX 48C 2.2GHz          Fujitsu ARM                   2200   \n",
       "1  IBM POWER9 22C 3.07GHz                Power                   3070   \n",
       "2   IBM POWER9 22C 3.1GHz                Power                   3100   \n",
       "\n",
       "           Operating System Accelerator/Co-Processor  Cores per Socket  \\\n",
       "0  Red Hat Enterprise Linux                     None                48   \n",
       "1                  RHEL 7.4       NVIDIA Volta GV100                22   \n",
       "2  Red Hat Enterprise Linux       NVIDIA Volta GV100                22   \n",
       "\n",
       "  Processor Generation       System Family  Interconnect Family  \\\n",
       "0        Fujitsu A64FX     Fujitsu Cluster  Proprietary Network   \n",
       "1           IBM POWER9   IBM Power Systems           Infiniband   \n",
       "2           IBM POWER9   IBM Power Systems           Infiniband   \n",
       "\n",
       "                        Interconnect      Continent  \n",
       "0                Tofu interconnect D           Asia  \n",
       "1  Dual-rail Mellanox EDR Infiniband  North America  \n",
       "2  Dual-rail Mellanox EDR Infiniband  North America  "
      ]
     },
     "metadata": {},
     "execution_count": 64
    }
   ],
   "metadata": {}
  },
  {
   "cell_type": "code",
   "execution_count": 65,
   "source": [
    "len(train_target)"
   ],
   "outputs": [
    {
     "output_type": "execute_result",
     "data": {
      "text/plain": [
       "267"
      ]
     },
     "metadata": {},
     "execution_count": 65
    }
   ],
   "metadata": {}
  },
  {
   "cell_type": "markdown",
   "source": [
    "## Визуализация целевой переменной "
   ],
   "metadata": {}
  },
  {
   "cell_type": "code",
   "execution_count": 66,
   "source": [
    "train_target.plot(style=\"o\")"
   ],
   "outputs": [
    {
     "output_type": "execute_result",
     "data": {
      "text/plain": [
       "<AxesSubplot:>"
      ]
     },
     "metadata": {},
     "execution_count": 66
    },
    {
     "output_type": "display_data",
     "data": {
      "image/png": "[encoded data removed]",
      "text/plain": [
       "<Figure size 800x550 with 1 Axes>"
      ]
     },
     "metadata": {}
    }
   ],
   "metadata": {}
  },
  {
   "cell_type": "code",
   "execution_count": 67,
   "source": [
    "log_transform = FunctionTransformer(func=np.log, inverse_func=np.exp)"
   ],
   "outputs": [],
   "metadata": {}
  },
  {
   "cell_type": "code",
   "execution_count": 68,
   "source": [
    "log_transform.fit_transform(train_target).plot(style=\"o\")"
   ],
   "outputs": [
    {
     "output_type": "execute_result",
     "data": {
      "text/plain": [
       "<AxesSubplot:>"
      ]
     },
     "metadata": {},
     "execution_count": 68
    },
    {
     "output_type": "display_data",
     "data": {
      "image/png": "[encoded data removed]",
      "text/plain": [
       "<Figure size 800x550 with 1 Axes>"
      ]
     },
     "metadata": {}
    }
   ],
   "metadata": {}
  },
  {
   "cell_type": "markdown",
   "source": [
    "## Построение модели"
   ],
   "metadata": {}
  },
  {
   "cell_type": "markdown",
   "source": [
    "Для построения модели воспользуемся AutoML."
   ],
   "metadata": {}
  },
  {
   "cell_type": "code",
   "execution_count": 69,
   "source": [
    "transformed_train_target = log_transform.fit_transform(train_target)"
   ],
   "outputs": [],
   "metadata": {}
  },
  {
   "cell_type": "code",
   "execution_count": 70,
   "source": [
    "auto_ml = AutoML(mode=\"Perform\", ml_task=\"regression\", algorithms=[\"Decision Tree\", \"Random Forest\", \"Nearest Neighbors\"], \\\r\n",
    "     eval_metric=\"mae\", validation_strategy={\"validation_type\": \"kfold\", \"k_folds\": 3, \"stratify\": False}, explain_level=1, n_jobs=-1,\\\r\n",
    "          results_path=\"train\", train_ensemble=False)"
   ],
   "outputs": [],
   "metadata": {}
  },
  {
   "cell_type": "code",
   "execution_count": 71,
   "source": [
    "with warnings.catch_warnings():\r\n",
    "    warnings.simplefilter(\"ignore\")\r\n",
    "    auto_ml.fit(train_features, transformed_train_target)\r\n",
    "    del train_features\r\n",
    "    del transformed_train_target"
   ],
   "outputs": [
    {
     "output_type": "stream",
     "name": "stdout",
     "text": [
      "This model has already been fitted. You can use predict methods or select a new 'results_path' for a new 'fit()'.\n"
     ]
    }
   ],
   "metadata": {}
  },
  {
   "cell_type": "code",
   "execution_count": 72,
   "source": [
    "predicted_power = log_transform.inverse_transform(auto_ml.predict(test_features))"
   ],
   "outputs": [
    {
     "output_type": "stream",
     "name": "stderr",
     "text": [
      "Attribute `n_features_` was deprecated in version 1.0 and will be removed in 1.2. Use `n_features_in_` instead.\n",
      "Attribute `n_features_` was deprecated in version 1.0 and will be removed in 1.2. Use `n_features_in_` instead.\n",
      "Attribute `n_features_` was deprecated in version 1.0 and will be removed in 1.2. Use `n_features_in_` instead.\n"
     ]
    }
   ],
   "metadata": {}
  },
  {
   "cell_type": "code",
   "execution_count": 73,
   "source": [
    "test_features = features[target.isna()]"
   ],
   "outputs": [],
   "metadata": {}
  },
  {
   "cell_type": "code",
   "execution_count": 74,
   "source": [
    "all_data.loc[test_features.index, TARGET_COLUMN_NAME] = predicted_power\r\n",
    "top500_power = all_data[all_data[FILEINDEX_COL] == \"202106\"][TARGET_COLUMN_NAME]"
   ],
   "outputs": [],
   "metadata": {}
  },
  {
   "cell_type": "code",
   "execution_count": 75,
   "source": [
    "assert not top500_power.isna().any()"
   ],
   "outputs": [],
   "metadata": {}
  },
  {
   "cell_type": "markdown",
   "source": [
    "# Оценка потребления компьютеров из top500 всего производимого на Земле электричества в процентом соотношении"
   ],
   "metadata": {}
  },
  {
   "cell_type": "markdown",
   "source": [
    "Данные по производимому в мире электричеству взяты c [ourworldindata.org](https://ourworldindata.org/explorers/energy?facet=none&country=~OWID_WRL&Total+or+Breakdown=Total&Energy+or+Electricity=Electricity+only&Metric=Annual+generation). Статистика была выбрана только для электричества. Оценка на момент написания была за 2020 год."
   ],
   "metadata": {}
  },
  {
   "cell_type": "code",
   "execution_count": 76,
   "source": [
    "path_to_energy = pathlib.Path(\"data\", \"raw\", \"energy.csv\")"
   ],
   "outputs": [],
   "metadata": {}
  },
  {
   "cell_type": "code",
   "execution_count": 77,
   "source": [
    "energy_data = pd.read_csv(path_to_energy, encoding=\"utf-8\", engine=\"c\", usecols=[\"Entity\", \"Year\", \"Electricity Generation (TWh)\"])"
   ],
   "outputs": [],
   "metadata": {}
  },
  {
   "cell_type": "code",
   "execution_count": 78,
   "source": [
    "energy_data = energy_data[(energy_data[\"Entity\"] == \"World\")]\r\n",
    "energy_data = energy_data[energy_data[\"Year\"] == energy_data[\"Year\"].max()]"
   ],
   "outputs": [],
   "metadata": {}
  },
  {
   "cell_type": "code",
   "execution_count": 79,
   "source": [
    "energy_data"
   ],
   "outputs": [
    {
     "output_type": "execute_result",
     "data": {
      "text/html": [
       "<div>\n",
       "<style scoped>\n",
       "    .dataframe tbody tr th:only-of-type {\n",
       "        vertical-align: middle;\n",
       "    }\n",
       "\n",
       "    .dataframe tbody tr th {\n",
       "        vertical-align: top;\n",
       "    }\n",
       "\n",
       "    .dataframe thead th {\n",
       "        text-align: right;\n",
       "    }\n",
       "</style>\n",
       "<table border=\"1\" class=\"dataframe\">\n",
       "  <thead>\n",
       "    <tr style=\"text-align: right;\">\n",
       "      <th></th>\n",
       "      <th>Entity</th>\n",
       "      <th>Year</th>\n",
       "      <th>Electricity Generation (TWh)</th>\n",
       "    </tr>\n",
       "  </thead>\n",
       "  <tbody>\n",
       "    <tr>\n",
       "      <th>6180</th>\n",
       "      <td>World</td>\n",
       "      <td>2020</td>\n",
       "      <td>25849.919121</td>\n",
       "    </tr>\n",
       "  </tbody>\n",
       "</table>\n",
       "</div>"
      ],
      "text/plain": [
       "     Entity  Year  Electricity Generation (TWh)\n",
       "6180  World  2020                  25849.919121"
      ]
     },
     "metadata": {},
     "execution_count": 79
    }
   ],
   "metadata": {}
  },
  {
   "cell_type": "markdown",
   "source": [
    "Т. к. в top500 единицы измерения равны kW и не указано иное, то предполагаем что значения заданы в международной СИ. Для перевод в kWh достаточно умножить на 1 час.\r\n",
    "\r\n",
    "Итоговый процент потребляемого количества электричества равен:"
   ],
   "metadata": {}
  },
  {
   "cell_type": "code",
   "execution_count": 80,
   "source": [
    "print(f\"{top500_power.sum() / twatt2kwatt(energy_data['Electricity Generation (TWh)'].iloc[0]):.8%}\")"
   ],
   "outputs": [
    {
     "output_type": "stream",
     "name": "stdout",
     "text": [
      "0.00000233%\n"
     ]
    }
   ],
   "metadata": {}
  }
 ],
 "metadata": {
  "orig_nbformat": 4,
  "language_info": {
   "name": "python",
   "version": "3.8.11",
   "mimetype": "text/x-python",
   "codemirror_mode": {
    "name": "ipython",
    "version": 3
   },
   "pygments_lexer": "ipython3",
   "nbconvert_exporter": "python",
   "file_extension": ".py"
  },
  "kernelspec": {
   "name": "python3",
   "display_name": "Python 3.8.11 64-bit ('made-hpc-hw1-1': conda)"
  },
  "interpreter": {
   "hash": "512ccece211aabdb93e1a52c7c76a9f8b44c82ac4d5fdcb9ff6104fac4cbf87b"
  }
 },
 "nbformat": 4,
 "nbformat_minor": 2
}